{
  "nbformat": 4,
  "nbformat_minor": 0,
  "metadata": {
    "colab": {
      "name": "Twitter.ipynb ",
      "provenance": [],
      "collapsed_sections": []
    },
    "kernelspec": {
      "name": "python3",
      "display_name": "Python 3"
    },
    "language_info": {
      "name": "python"
    }
  },
  "cells": [
    {
      "cell_type": "code",
      "metadata": {
        "id": "Dosevio0tsTp"
      },
      "source": [
        "import os\n",
        "import tweepy as tw\n",
        "import pandas as pd"
      ],
      "execution_count": 2,
      "outputs": []
    },
    {
      "cell_type": "code",
      "metadata": {
        "id": "3TG3Yylrtuhf"
      },
      "source": [
        "consumer_key= 'WgTilcUxe5aZUZGCUJ6nrkzcJ'\n",
        "consumer_secret= '9NFm7vdKAyiC3BDsCK1QF33clGFplDnWU9nvKMqZVH7pf8ATXE'\n",
        "access_token= '304813303-TCxQMYCys5cBVEFita6yG720nXIWvaXMDhLUDXqI'\n",
        "access_token_secret= 'Q26BUcwrGvLzmiCMv2bnOkO2GljLWan2fNGQs6TdxMg04'"
      ],
      "execution_count": 3,
      "outputs": []
    },
    {
      "cell_type": "code",
      "metadata": {
        "id": "OupL19RHwPQn"
      },
      "source": [
        "auth = tw.OAuthHandler(consumer_key, consumer_secret)\n",
        "auth.set_access_token(access_token, access_token_secret)\n",
        "api = tw.API(auth, wait_on_rate_limit=True)"
      ],
      "execution_count": 4,
      "outputs": []
    },
    {
      "cell_type": "code",
      "metadata": {
        "id": "-rPtJs_wwR23"
      },
      "source": [
        "# Define the search term and the date_since date as variables\n",
        "search_words = \"$AMC\"\n",
        "date_since = \"2018-11-16\""
      ],
      "execution_count": 11,
      "outputs": []
    },
    {
      "cell_type": "code",
      "metadata": {
        "id": "VGCuexBRwyh-"
      },
      "source": [
        "def get_stock_tweets (search_stock, start_date, tweet_count):\n",
        "  \n",
        "    new_search = search_stock + \" -filter:retweets\"\n",
        "    tweets = tw.Cursor(api.search,\n",
        "                q=new_search,\n",
        "                lang=\"en\",\n",
        "                since=start_date).items(tweet_count)\n",
        "    tweets_list = [tweet.text for tweet in tweets] \n",
        "    return tweets_list\n",
        "\n",
        "\n",
        "\n"
      ],
      "execution_count": 112,
      "outputs": []
    },
    {
      "cell_type": "code",
      "metadata": {
        "id": "GPPrbuPlTk4S"
      },
      "source": [
        "def tick_input():\n",
        "  tick = str(input('Please enter stock ticker symbol like [$GME]:'))\n",
        "  return tick"
      ],
      "execution_count": 145,
      "outputs": []
    },
    {
      "cell_type": "code",
      "metadata": {
        "colab": {
          "base_uri": "https://localhost:8080/"
        },
        "id": "mqivVBhoZ3iO",
        "outputId": "d4b7480b-e969-4fb9-f75b-b88dadbd9b1a"
      },
      "source": [
        "# Goes in main\n",
        "tick = tick_input()"
      ],
      "execution_count": 172,
      "outputs": [
        {
          "name": "stdout",
          "output_type": "stream",
          "text": [
            "Please enter stock ticker symbol like [$GME]:$GME\n"
          ]
        }
      ]
    },
    {
      "cell_type": "code",
      "metadata": {
        "id": "MdvVcOC2yu5g"
      },
      "source": [
        "# Goes in main\n",
        "ls = get_stock_tweets(tick, \"2021-08-07\", 100)"
      ],
      "execution_count": 173,
      "outputs": []
    },
    {
      "cell_type": "code",
      "metadata": {
        "id": "RdLVHqmdLN0y"
      },
      "source": [
        "#Dont need to run everytime. Put in main.\n",
        "df_t = pd.DataFrame(columns=['Tweet', 'Tick'])"
      ],
      "execution_count": 167,
      "outputs": []
    },
    {
      "cell_type": "code",
      "metadata": {
        "id": "6_JrhVQ2Q17O"
      },
      "source": [
        ""
      ],
      "execution_count": 102,
      "outputs": []
    },
    {
      "cell_type": "code",
      "metadata": {
        "id": "WJdwdhSNYdhy"
      },
      "source": [
        "def tick_list(tick,ls):\n",
        "  arr = []\n",
        "  size = len(ls)\n",
        "  arr += size * [tick]\n",
        "  return arr"
      ],
      "execution_count": 157,
      "outputs": []
    },
    {
      "cell_type": "code",
      "metadata": {
        "id": "RgAA-HP0av2D"
      },
      "source": [
        "# Goes in main\n",
        "tck_lst = tick_list(tick, ls)"
      ],
      "execution_count": 174,
      "outputs": []
    },
    {
      "cell_type": "code",
      "metadata": {
        "id": "d2NfKRjIWhqq"
      },
      "source": [
        "\n",
        "def add_to_df(lst, df, tck):\n",
        "  for i in range(len(lst)):\n",
        "    df_length = len(df)\n",
        "    df.loc[df_length] = lst[i], tck[i]\n",
        " "
      ],
      "execution_count": 169,
      "outputs": []
    },
    {
      "cell_type": "code",
      "metadata": {
        "id": "iBBvq8vqRQ6I"
      },
      "source": [
        "#Put in main.\n",
        "add_to_df(ls,df_t, tck_lst)"
      ],
      "execution_count": 175,
      "outputs": []
    },
    {
      "cell_type": "code",
      "metadata": {
        "colab": {
          "base_uri": "https://localhost:8080/",
          "height": 419
        },
        "id": "j0Z8zAk0UkTq",
        "outputId": "9bcb19f7-2d0d-4763-ea8f-d0753ad6a277"
      },
      "source": [
        "df_t"
      ],
      "execution_count": 176,
      "outputs": [
        {
          "output_type": "execute_result",
          "data": {
            "text/html": [
              "<div>\n",
              "<style scoped>\n",
              "    .dataframe tbody tr th:only-of-type {\n",
              "        vertical-align: middle;\n",
              "    }\n",
              "\n",
              "    .dataframe tbody tr th {\n",
              "        vertical-align: top;\n",
              "    }\n",
              "\n",
              "    .dataframe thead th {\n",
              "        text-align: right;\n",
              "    }\n",
              "</style>\n",
              "<table border=\"1\" class=\"dataframe\">\n",
              "  <thead>\n",
              "    <tr style=\"text-align: right;\">\n",
              "      <th></th>\n",
              "      <th>Tweet</th>\n",
              "      <th>Tick</th>\n",
              "    </tr>\n",
              "  </thead>\n",
              "  <tbody>\n",
              "    <tr>\n",
              "      <th>0</th>\n",
              "      <td>$CEI $AMC $GME $CLOV \\n\\nShort squeeze $CEI ↘</td>\n",
              "      <td>$AMC</td>\n",
              "    </tr>\n",
              "    <tr>\n",
              "      <th>1</th>\n",
              "      <td>#AMC $AMC - Twitter is not your weekend job. H...</td>\n",
              "      <td>$AMC</td>\n",
              "    </tr>\n",
              "    <tr>\n",
              "      <th>2</th>\n",
              "      <td>@citsecurities it is suck that using naked sho...</td>\n",
              "      <td>$AMC</td>\n",
              "    </tr>\n",
              "    <tr>\n",
              "      <th>3</th>\n",
              "      <td>Here we go again #AMC Read this. Guy’s behavio...</td>\n",
              "      <td>$AMC</td>\n",
              "    </tr>\n",
              "    <tr>\n",
              "      <th>4</th>\n",
              "      <td>@AllenHeathman Unite the communities. Let's he...</td>\n",
              "      <td>$AMC</td>\n",
              "    </tr>\n",
              "    <tr>\n",
              "      <th>...</th>\n",
              "      <td>...</td>\n",
              "      <td>...</td>\n",
              "    </tr>\n",
              "    <tr>\n",
              "      <th>195</th>\n",
              "      <td>@GMEshortsqueeze @__ZionLion__ I agree with @G...</td>\n",
              "      <td>$GME</td>\n",
              "    </tr>\n",
              "    <tr>\n",
              "      <th>196</th>\n",
              "      <td>$GME $10,000 next week. 💟</td>\n",
              "      <td>$GME</td>\n",
              "    </tr>\n",
              "    <tr>\n",
              "      <th>197</th>\n",
              "      <td>$GME Bitcoin ️ https://t.co/lWYpYarpvQ</td>\n",
              "      <td>$GME</td>\n",
              "    </tr>\n",
              "    <tr>\n",
              "      <th>198</th>\n",
              "      <td>Our members caught $SHOP today. $SHOP would ru...</td>\n",
              "      <td>$GME</td>\n",
              "    </tr>\n",
              "    <tr>\n",
              "      <th>199</th>\n",
              "      <td>$AMC $GME \\nPAID BY HF DOG FROM KENNYBOY, DEFI...</td>\n",
              "      <td>$GME</td>\n",
              "    </tr>\n",
              "  </tbody>\n",
              "</table>\n",
              "<p>200 rows × 2 columns</p>\n",
              "</div>"
            ],
            "text/plain": [
              "                                                 Tweet  Tick\n",
              "0        $CEI $AMC $GME $CLOV \\n\\nShort squeeze $CEI ↘  $AMC\n",
              "1    #AMC $AMC - Twitter is not your weekend job. H...  $AMC\n",
              "2    @citsecurities it is suck that using naked sho...  $AMC\n",
              "3    Here we go again #AMC Read this. Guy’s behavio...  $AMC\n",
              "4    @AllenHeathman Unite the communities. Let's he...  $AMC\n",
              "..                                                 ...   ...\n",
              "195  @GMEshortsqueeze @__ZionLion__ I agree with @G...  $GME\n",
              "196                          $GME $10,000 next week. 💟  $GME\n",
              "197             $GME Bitcoin ️ https://t.co/lWYpYarpvQ  $GME\n",
              "198  Our members caught $SHOP today. $SHOP would ru...  $GME\n",
              "199  $AMC $GME \\nPAID BY HF DOG FROM KENNYBOY, DEFI...  $GME\n",
              "\n",
              "[200 rows x 2 columns]"
            ]
          },
          "metadata": {},
          "execution_count": 176
        }
      ]
    },
    {
      "cell_type": "code",
      "metadata": {
        "id": "YWfQMOyuUqPM"
      },
      "source": [
        ""
      ],
      "execution_count": null,
      "outputs": []
    }
  ]
}