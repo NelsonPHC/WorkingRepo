{
 "cells": [
  {
   "cell_type": "code",
   "execution_count": 5,
   "id": "0126642a",
   "metadata": {
    "scrolled": false
   },
   "outputs": [
    {
     "name": "stdout",
     "output_type": "stream",
     "text": [
      "Collecting alpha_vantage\n",
      "  Downloading alpha_vantage-2.3.1-py3-none-any.whl (31 kB)\n",
      "Collecting aiohttp\n",
      "  Downloading aiohttp-3.8.1-cp39-cp39-win_amd64.whl (554 kB)\n",
      "Requirement already satisfied: requests in c:\\users\\nc\\miniconda3\\lib\\site-packages (from alpha_vantage) (2.25.1)\n",
      "Collecting aiosignal>=1.1.2\n",
      "  Downloading aiosignal-1.2.0-py3-none-any.whl (8.2 kB)\n",
      "Requirement already satisfied: attrs>=17.3.0 in c:\\users\\nc\\miniconda3\\lib\\site-packages (from aiohttp->alpha_vantage) (21.2.0)\n",
      "Collecting charset-normalizer<3.0,>=2.0\n",
      "  Downloading charset_normalizer-2.0.7-py3-none-any.whl (38 kB)\n",
      "Collecting multidict<7.0,>=4.5\n",
      "  Downloading multidict-5.2.0-cp39-cp39-win_amd64.whl (45 kB)\n",
      "Collecting frozenlist>=1.1.1\n",
      "  Downloading frozenlist-1.2.0-cp39-cp39-win_amd64.whl (83 kB)\n",
      "Collecting async-timeout<5.0,>=4.0.0a3\n",
      "  Downloading async_timeout-4.0.1-py3-none-any.whl (5.7 kB)\n",
      "Collecting yarl<2.0,>=1.0\n",
      "  Downloading yarl-1.7.2-cp39-cp39-win_amd64.whl (122 kB)\n",
      "Collecting typing-extensions>=3.6.5\n",
      "  Downloading typing_extensions-4.0.0-py3-none-any.whl (22 kB)\n",
      "Requirement already satisfied: idna>=2.0 in c:\\users\\nc\\miniconda3\\lib\\site-packages (from yarl<2.0,>=1.0->aiohttp->alpha_vantage) (2.10)\n",
      "Requirement already satisfied: urllib3<1.27,>=1.21.1 in c:\\users\\nc\\miniconda3\\lib\\site-packages (from requests->alpha_vantage) (1.26.6)\n",
      "Requirement already satisfied: certifi>=2017.4.17 in c:\\users\\nc\\miniconda3\\lib\\site-packages (from requests->alpha_vantage) (2021.10.8)\n",
      "Requirement already satisfied: chardet<5,>=3.0.2 in c:\\users\\nc\\miniconda3\\lib\\site-packages (from requests->alpha_vantage) (4.0.0)\n",
      "Installing collected packages: typing-extensions, multidict, frozenlist, yarl, charset-normalizer, async-timeout, aiosignal, aiohttp, alpha-vantage\n",
      "Successfully installed aiohttp-3.8.1 aiosignal-1.2.0 alpha-vantage-2.3.1 async-timeout-4.0.1 charset-normalizer-2.0.7 frozenlist-1.2.0 multidict-5.2.0 typing-extensions-4.0.0 yarl-1.7.2\n"
     ]
    }
   ],
   "source": [
    "!pip install alpha_vantage"
   ]
  },
  {
   "cell_type": "code",
   "execution_count": 1,
   "id": "c877107f",
   "metadata": {},
   "outputs": [],
   "source": [
    "import csv\n",
    "import os\n",
    "import requests\n",
    "\n",
    "import pandas as pd"
   ]
  },
  {
   "cell_type": "code",
   "execution_count": 2,
   "id": "4f93952f",
   "metadata": {},
   "outputs": [
    {
     "data": {
      "text/plain": [
       "environ{'NVM_INC': '/Users/NelsonChen/.nvm/versions/node/v11.0.0/include/node',\n",
       "        'TERM_PROGRAM': 'Apple_Terminal',\n",
       "        'NVM_CD_FLAGS': '',\n",
       "        'SHELL': '/bin/bash',\n",
       "        'TERM': 'xterm-color',\n",
       "        'PRIVATE_API_KEY': 'GBO0SB7JY5H8MZRJ',\n",
       "        'TMPDIR': '/var/folders/fb/8fzzh75s1953j730p1vmfmtw0000gp/T/',\n",
       "        'CONDA_SHLVL': '2',\n",
       "        'CONDA_PROMPT_MODIFIER': '(base) ',\n",
       "        'TERM_PROGRAM_VERSION': '433',\n",
       "        'OLDPWD': '/Users/NelsonChen',\n",
       "        'TERM_SESSION_ID': '3408AD3D-FCC7-425C-847C-5644DCAF5854',\n",
       "        'NVM_DIR': '/Users/NelsonChen/.nvm',\n",
       "        'USER': 'NelsonChen',\n",
       "        'CONDA_EXE': '/Volumes/iPort/opt/miniconda3/bin/conda',\n",
       "        'SSH_AUTH_SOCK': '/private/tmp/com.apple.launchd.SovXMtLefd/Listeners',\n",
       "        '_CE_CONDA': '',\n",
       "        'CONDA_PREFIX_1': '/Users/NelsonChen/opt/anaconda2',\n",
       "        'PATH': '/Users/NelsonChen/.nvm/versions/node/v11.0.0/bin:/Volumes/iPort/opt/miniconda3/bin:/Users/NelsonChen/opt/anaconda2/condabin:/usr/local/bin:/usr/bin:/bin:/usr/sbin:/sbin:/Library/TeX/texbin:/usr/local/share/dotnet:/opt/X11/bin:/Library/Frameworks/Mono.framework/Versions/Current/Commands:/Applications/Wireshark.app/Contents/MacOS',\n",
       "        'CONDA_PREFIX': '/Volumes/iPort/opt/miniconda3',\n",
       "        'PWD': '/Users/NelsonChen/OneDrive - UW/2021 Fall/Course Content/CSE583',\n",
       "        'XPC_FLAGS': '0x0',\n",
       "        '_CE_M': '',\n",
       "        'XPC_SERVICE_NAME': '0',\n",
       "        'SHLVL': '1',\n",
       "        'HOME': '/Users/NelsonChen',\n",
       "        'CONDA_PYTHON_EXE': '/Volumes/iPort/opt/miniconda3/bin/python',\n",
       "        'LOGNAME': 'NelsonChen',\n",
       "        'LC_CTYPE': 'UTF-8',\n",
       "        'ALPHA_VANTAGE_API_KEY': 'GBO0SB7JY5H8MZRJ',\n",
       "        'NVM_BIN': '/Users/NelsonChen/.nvm/versions/node/v11.0.0/bin',\n",
       "        'CONDA_DEFAULT_ENV': 'base',\n",
       "        'DISPLAY': '/private/tmp/com.apple.launchd.yfKF655Ihs/org.macosforge.xquartz:0',\n",
       "        '_': '/Volumes/iPort/opt/miniconda3/bin/jupyter',\n",
       "        '__CF_USER_TEXT_ENCODING': '0x1F6:0x0:0x0',\n",
       "        'JPY_PARENT_PID': '22493',\n",
       "        'CLICOLOR': '1',\n",
       "        'PAGER': 'cat',\n",
       "        'GIT_PAGER': 'cat',\n",
       "        'MPLBACKEND': 'module://matplotlib_inline.backend_inline'}"
      ]
     },
     "execution_count": 2,
     "metadata": {},
     "output_type": "execute_result"
    }
   ],
   "source": [
    "os.environ"
   ]
  },
  {
   "cell_type": "code",
   "execution_count": 3,
   "id": "8642f65b",
   "metadata": {},
   "outputs": [],
   "source": [
    "API_KEY = os.environ['ALPHA_VANTAGE_API_KEY'] # To hide API Key by storing it as a environmental variable"
   ]
  },
  {
   "cell_type": "markdown",
   "id": "b2f63da8",
   "metadata": {},
   "source": [
    "## Intraday (Extended History)\n",
    "\n",
    "TIME_SERIES_INTRADAY_EXTENDED (returns historical intraday time series for the trailing 2 years, one month slice per request)"
   ]
  },
  {
   "cell_type": "code",
   "execution_count": 5,
   "id": "adfd01ff",
   "metadata": {
    "scrolled": false
   },
   "outputs": [
    {
     "name": "stdout",
     "output_type": "stream",
     "text": [
      "Enter stock ticker: amzn\n"
     ]
    }
   ],
   "source": [
    "\n",
    "ticker = input('Enter stock ticker: ') # should perform a check here if the ticker exist\n",
    "# replace the \"demo\" apikey below with your own key from https://www.alphavantage.co/support/#api-key\n",
    "CSV_URL = 'https://www.alphavantage.co/query?function=TIME_SERIES_INTRADAY_EXTENDED&symbol='+ticker+'&interval=15min&slice=year1month1&apikey=' +API_KEY\n",
    "\n",
    "base_url = 'https://www.alphavantage.co/query?'\n",
    "params = {'function': 'TIME_SERIES_INTRADAY_EXTENDED',\n",
    "         'symbol': ticker,\n",
    "         'interval':'15min',\n",
    "         'apikey': API_KEY}\n",
    "\n",
    "with requests.Session() as s:\n",
    "    download = s.get(CSV_URL)\n",
    "    decoded_content = download.content.decode('utf-8')\n",
    "    cr = csv.reader(decoded_content.splitlines(), delimiter=',')\n",
    "    my_list_ext = list(cr)\n",
    "\n",
    "data_ext = pd.DataFrame(my_list_ext)\n",
    "data_ext\n",
    "\n",
    "data_ext.to_csv(ticker+'.csv')"
   ]
  },
  {
   "cell_type": "markdown",
   "id": "18dd6e1b",
   "metadata": {},
   "source": [
    "## Intraday\n",
    "TIME_SERIES_INTRADAY (returns the most recent 1-2 months of intraday data)"
   ]
  },
  {
   "cell_type": "code",
   "execution_count": 10,
   "id": "79e9f6be",
   "metadata": {},
   "outputs": [
    {
     "name": "stdout",
     "output_type": "stream",
     "text": [
      "Enter stock ticker: amzn\n",
      "                       1. open    2. high     3. low   4. close 5. volume\n",
      "2021-11-26 17:00:00  3503.0000  3503.6500  3502.0000  3503.0000      2440\n",
      "2021-11-26 16:45:00  3503.0000  3503.0000  3502.7500  3502.7500       502\n",
      "2021-11-26 13:15:00  3504.5600  3504.5600  3504.5600  3504.5600    173454\n",
      "2021-11-26 13:00:00  3521.9200  3523.9200  3504.1500  3505.3900    351039\n",
      "2021-11-26 12:45:00  3536.1800  3541.9432  3520.0000  3522.9900    156742\n",
      "...                        ...        ...        ...        ...       ...\n",
      "2021-11-23 12:15:00  3553.9300  3555.6000  3537.6100  3537.6100     79844\n",
      "2021-11-23 12:00:00  3552.2000  3566.0000  3548.3800  3554.4500     76274\n",
      "2021-11-23 11:45:00  3562.0000  3567.8800  3552.0100  3552.9200     85116\n",
      "2021-11-23 11:30:00  3551.3200  3567.7500  3547.4100  3562.9200    125313\n",
      "2021-11-23 11:15:00  3547.5250  3552.5800  3529.1500  3552.5800    214141\n",
      "\n",
      "[100 rows x 5 columns]\n"
     ]
    }
   ],
   "source": [
    "ticker = input('Enter stock ticker: ') # should perform a check here if the ticker exist\n",
    "\n",
    "base_url = 'https://www.alphavantage.co/query?'\n",
    "params = {'function': 'TIME_SERIES_INTRADAY',\n",
    "         'symbol': ticker,\n",
    "         'interval':'15min',\n",
    "         'apikey': API_KEY}\n",
    "\n",
    "response = requests.get(base_url, params=params)\n",
    "\n",
    "response_dict = response.json()\n",
    "_, header = response.json()\n",
    "\n",
    "# Convert to pandas dataframe\n",
    "df = pd.DataFrame.from_dict(response_dict[header], orient='index')\n",
    "print(df)\n",
    "\n",
    "\n",
    "# #Clean up column names\n",
    "# df_cols = [i.split(' ')[1] for i in df.columns]\n",
    "# df.columns = df_cols\n",
    "\n",
    "# df.set_index('timestamp', inplace=True) #Time-series index \n"
   ]
  }
 ],
 "metadata": {
  "kernelspec": {
   "display_name": "Python 3 (ipykernel)",
   "language": "python",
   "name": "python3"
  },
  "language_info": {
   "codemirror_mode": {
    "name": "ipython",
    "version": 3
   },
   "file_extension": ".py",
   "mimetype": "text/x-python",
   "name": "python",
   "nbconvert_exporter": "python",
   "pygments_lexer": "ipython3",
   "version": "3.9.5"
  }
 },
 "nbformat": 4,
 "nbformat_minor": 5
}
